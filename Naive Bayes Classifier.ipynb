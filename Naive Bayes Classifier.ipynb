{
 "cells": [
  {
   "cell_type": "code",
   "execution_count": 3,
   "metadata": {},
   "outputs": [
    {
     "name": "stderr",
     "output_type": "stream",
     "text": [
      "/anaconda3/lib/python3.6/site-packages/sklearn/cross_validation.py:41: DeprecationWarning: This module was deprecated in version 0.18 in favor of the model_selection module into which all the refactored classes and functions are moved. Also note that the interface of the new CV iterators are different from that of this module. This module will be removed in 0.20.\n",
      "  \"This module will be removed in 0.20.\", DeprecationWarning)\n"
     ]
    }
   ],
   "source": [
    "# import the required libraries\n",
    "\n",
    "import numpy as np\n",
    "import pandas as pd\n",
    "import sklearn\n",
    "from sklearn.naive_bayes import BernoulliNB\n",
    "from sklearn.naive_bayes import GaussianNB\n",
    "from sklearn.naive_bayes import MultinomialNB\n",
    "from sklearn.cross_validation import train_test_split\n",
    "from sklearn import metrics\n",
    "from sklearn.metrics import accuracy_score\n",
    "import urllib.request\n"
   ]
  },
  {
   "cell_type": "code",
   "execution_count": 4,
   "metadata": {},
   "outputs": [],
   "source": [
    "# downloading the spam data from the url\n",
    "\n",
    "url = \"https://archive.ics.uci.edu/ml/machine-learning-databases/spambase/spambase.data\"\n",
    "\n",
    "raw_data = urllib.request.urlopen(url)\n",
    "data = np.loadtxt(raw_data, delimiter = ',')\n",
    "\n",
    "#data.shape"
   ]
  },
  {
   "cell_type": "code",
   "execution_count": 5,
   "metadata": {},
   "outputs": [],
   "source": [
    "X = data[:,0:58]\n",
    "Y = data[:,-1]\n",
    "#print(Y)"
   ]
  },
  {
   "cell_type": "code",
   "execution_count": 6,
   "metadata": {},
   "outputs": [],
   "source": [
    "# split the data into training and test data\n",
    "\n",
    "Xtrain, Xtest, Ytrain, Ytest = train_test_split(X, Y, test_size = .40, random_state = 17)"
   ]
  },
  {
   "cell_type": "code",
   "execution_count": 10,
   "metadata": {},
   "outputs": [
    {
     "name": "stdout",
     "output_type": "stream",
     "text": [
      "Accuracy with Bernoulli is:  0.6099945681694731\n"
     ]
    },
    {
     "name": "stderr",
     "output_type": "stream",
     "text": [
      "/anaconda3/lib/python3.6/site-packages/sklearn/naive_bayes.py:838: RuntimeWarning: invalid value encountered in log\n",
      "  neg_prob = np.log(1 - np.exp(self.feature_log_prob_))\n"
     ]
    }
   ],
   "source": [
    "# Bernoulli \n",
    "\n",
    "BernNB  = BernoulliNB(binarize = None)\n",
    "# binarize = 0.1 > Values greater than the threshold(0.1) map to 1, \n",
    "# while values less than or equal to the threshold map to 0.\n",
    "# It can also be used as a pre-processing step for estimators\n",
    "\n",
    "BernNB.fit(Xtrain,Ytrain)\n",
    "yPred_Bernoiulli = BernNB.predict(Xtest)\n",
    "accuracy_Bernoiulli = accuracy_score(Ytest, yPred_Bernoiulli )\n",
    "print(\"Accuracy with Bernoulli is: \", accuracy_Bernoiulli)"
   ]
  },
  {
   "cell_type": "code",
   "execution_count": 8,
   "metadata": {},
   "outputs": [
    {
     "name": "stdout",
     "output_type": "stream",
     "text": [
      "Accuracy with Multinomial is:  0.8430200977729495\n"
     ]
    }
   ],
   "source": [
    "# Multinomial\n",
    "\n",
    "MultiNB  = MultinomialNB()\n",
    "MultiNB.fit(Xtrain,Ytrain)\n",
    "yPred_Multinomial = MultiNB.predict(Xtest)\n",
    "accuracy_Multinomial = accuracy_score(Ytest, yPred_Multinomial )\n",
    "print(\"Accuracy with Multinomial is: \", accuracy_Multinomial)"
   ]
  },
  {
   "cell_type": "code",
   "execution_count": 13,
   "metadata": {},
   "outputs": [
    {
     "name": "stdout",
     "output_type": "stream",
     "text": [
      "Accuracy with Guassian is:  0.997827267789245\n"
     ]
    }
   ],
   "source": [
    "# Gaussian\n",
    "\n",
    "GuasNB  = GaussianNB()\n",
    "GuasNB.fit(Xtrain,Ytrain)\n",
    "yPred_Guassian = GuasNB.predict(Xtest)\n",
    "accuracy_Guassian = accuracy_score(Ytest, yPred_Guassian)\n",
    "print(\"Accuracy with Guassian is: \", accuracy_Guassian)"
   ]
  },
  {
   "cell_type": "code",
   "execution_count": 15,
   "metadata": {},
   "outputs": [
    {
     "name": "stdout",
     "output_type": "stream",
     "text": [
      "Accuracy with Bernoulli is:  0.9837045084193373\n"
     ]
    }
   ],
   "source": [
    "# Bernoulli with pre processing the binarizer\n",
    "\n",
    "BernNB  = BernoulliNB(binarize = 0.1)\n",
    "# binarize = 0.1 > Values greater than the threshold(0.1) map to 1, \n",
    "# while values less than or equal to the threshold map to 0.\n",
    "# It can also be used as a pre-processing step for estimators\n",
    "\n",
    "BernNB.fit(Xtrain,Ytrain)\n",
    "yPred_Bernoiulli = BernNB.predict(Xtest)\n",
    "accuracy_Bernoiulli = accuracy_score(Ytest, yPred_Bernoiulli )\n",
    "print(\"Accuracy with Bernoulli is: \", accuracy_Bernoiulli)"
   ]
  },
  {
   "cell_type": "markdown",
   "metadata": {},
   "source": []
  }
 ],
 "metadata": {
  "kernelspec": {
   "display_name": "Python 3",
   "language": "python",
   "name": "python3"
  },
  "language_info": {
   "codemirror_mode": {
    "name": "ipython",
    "version": 3
   },
   "file_extension": ".py",
   "mimetype": "text/x-python",
   "name": "python",
   "nbconvert_exporter": "python",
   "pygments_lexer": "ipython3",
   "version": "3.6.4"
  }
 },
 "nbformat": 4,
 "nbformat_minor": 2
}
