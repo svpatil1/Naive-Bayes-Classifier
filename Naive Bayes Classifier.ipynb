{
 "cells": [
  {
   "cell_type": "code",
   "execution_count": 6,
   "metadata": {},
   "outputs": [],
   "source": [
    "# import the required libraries\n",
    "\n",
    "import numpy as np\n",
    "import pandas as pd\n",
    "import sklearn\n",
    "from sklearn.naive_bayes import BernoulliNB\n",
    "from sklearn.naive_bayes import GaussianNB\n",
    "from sklearn.naive_bayes import MultinomialNB\n",
    "from sklearn.cross_validation import train_test_split\n",
    "from sklearn import metrics\n",
    "from sklearn.metrics import accuracy_score\n",
    "import urllib..request\n"
   ]
  },
  {
   "cell_type": "code",
   "execution_count": 18,
   "metadata": {},
   "outputs": [
    {
     "name": "stdout",
     "output_type": "stream",
     "text": [
      "<class 'numpy.ndarray'>\n"
     ]
    },
    {
     "data": {
      "text/plain": [
       "(4601, 58)"
      ]
     },
     "execution_count": 18,
     "metadata": {},
     "output_type": "execute_result"
    }
   ],
   "source": [
    "# downloading the spam data from the url\n",
    "\n",
    "url = \"https://archive.ics.uci.edu/ml/machine-learning-databases/spambase/spambase.data\"\n",
    "\n",
    "raw_data = urllib.request.urlopen(url)\n",
    "data = np.loadtxt(raw_data, delimiter = ',')\n",
    "\n",
    "#data.shape"
   ]
  },
  {
   "cell_type": "code",
   "execution_count": 28,
   "metadata": {},
   "outputs": [],
   "source": [
    "X = data[:,0:58]\n",
    "Y = data[:,-1]\n",
    "#print(Y)"
   ]
  },
  {
   "cell_type": "code",
   "execution_count": 29,
   "metadata": {},
   "outputs": [],
   "source": [
    "# split the data into training and test data\n",
    "\n",
    "Xtrain, Xtest, Ytrain, Ytest = train_test_split(X, Y, test_size = .40, random_state = 17)"
   ]
  },
  {
   "cell_type": "code",
   "execution_count": 38,
   "metadata": {},
   "outputs": [
    {
     "name": "stdout",
     "output_type": "stream",
     "text": [
      "Accuracy with Bernoulli is:  0.9837045084193373\n"
     ]
    }
   ],
   "source": [
    "# Bernoulli \n",
    "\n",
    "BernNB  = BernoulliNB(binarize = 0.1)\n",
    "# binarize = 0.1 > Values greater than the threshold(0.1) map to 1, \n",
    "# while values less than or equal to the threshold map to 0.\n",
    "# It can also be used as a pre-processing step for estimators\n",
    "\n",
    "BernNB.fit(Xtrain,Ytrain)\n",
    "yPred_Bernoiulli = BernNB.predict(Xtest)\n",
    "accuracy_Bernoiulli = accuracy_score(Ytest, yPred_Bernoiulli )\n",
    "print(\"Accuracy with Bernoulli is: \", accuracy_Bernoiulli)"
   ]
  },
  {
   "cell_type": "code",
   "execution_count": 35,
   "metadata": {},
   "outputs": [
    {
     "name": "stdout",
     "output_type": "stream",
     "text": [
      "Accuracy with Multinomial is:  0.8430200977729495\n"
     ]
    }
   ],
   "source": [
    "# Multinomial\n",
    "\n",
    "MultiNB  = MultinomialNB()\n",
    "MultiNB.fit(Xtrain,Ytrain)\n",
    "yPred_Multinomial = MultiNB.predict(Xtest)\n",
    "accuracy_Multinomial = accuracy_score(Ytest, yPred_Multinomial )\n",
    "print(\"Accuracy with Multinomial is: \", accuracy_Multinomial)"
   ]
  },
  {
   "cell_type": "code",
   "execution_count": 37,
   "metadata": {},
   "outputs": [
    {
     "name": "stdout",
     "output_type": "stream",
     "text": [
      "Accuracy with Guassian is:  0.997827267789245\n"
     ]
    }
   ],
   "source": [
    "# Gaussian\n",
    "\n",
    "GuasNB  = GaussianNB()\n",
    "GuasNB.fit(Xtrain,Ytrain)\n",
    "yPred_Guassian = GuasNB.predict(Xtest)\n",
    "accuracy_Guassian = accuracy_score(Ytest, yPred_Guassian)\n",
    "print(\"Accuracy with Guassian is: \", accuracy_Guassian)"
   ]
  },
  {
   "cell_type": "code",
   "execution_count": null,
   "metadata": {},
   "outputs": [],
   "source": []
  }
 ],
 "metadata": {
  "kernelspec": {
   "display_name": "Python 3",
   "language": "python",
   "name": "python3"
  },
  "language_info": {
   "codemirror_mode": {
    "name": "ipython",
    "version": 3
   },
   "file_extension": ".py",
   "mimetype": "text/x-python",
   "name": "python",
   "nbconvert_exporter": "python",
   "pygments_lexer": "ipython3",
   "version": "3.6.4"
  }
 },
 "nbformat": 4,
 "nbformat_minor": 2
}
